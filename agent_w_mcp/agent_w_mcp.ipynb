{
 "cells": [
  {
   "cell_type": "code",
   "execution_count": null,
   "id": "9dbb01eb-4b5b-46c2-89ac-ada242fc8f3c",
   "metadata": {},
   "outputs": [],
   "source": [
    "import asyncio\n",
    "import json\n",
    "import sys\n",
    "from contextlib import AsyncExitStack\n",
    "from typing import Any, Dict, List\n",
    "\n",
    "from anthropic import Anthropic\n",
    "from dotenv import load_dotenv\n",
    "from mcp import ClientSession, StdioServerParameters\n",
    "from mcp.client.stdio import stdio_client\n",
    "\n",
    "load_dotenv()\n",
    "\n",
    "ANTHROPIC_WEB_SEARCH = [\n",
    "    {\n",
    "        \"type\": \"web_search_20250305\",\n",
    "        \"name\": \"web_search\",\n",
    "        \"max_uses\": 5\n",
    "    }\n",
    "]\n",
    "MAX_TOKENS = 8192\n",
    "MODEL = \"claude-sonnet-4-20250514\"\n",
    "SYSTEM_PROMPT = \"\"\"\n",
    "For maximum efficiency, whenever you need to perform multiple independent operations, invoke all relevant tools simultaneously rather than sequentially.\n",
    "Put DONE to the message when you are done with the task\n",
    "\"\"\""
   ]
  },
  {
   "cell_type": "markdown",
   "id": "6edcf43e-ce44-4435-93eb-82d250dc4112",
   "metadata": {},
   "source": [
    "## MCP Client"
   ]
  },
  {
   "cell_type": "code",
   "execution_count": null,
   "id": "5c6356df-28d5-4b7f-a5f7-e3b55104957e",
   "metadata": {},
   "outputs": [],
   "source": [
    "class MCPClient:\n",
    "    def __init__(self):\n",
    "        self.sessions: List[ClientSession] = []\n",
    "        self.exit_stack = AsyncExitStack()\n",
    "        self.anthropic = Anthropic()\n",
    "\n",
    "    async def connect_to_servers(self, server_configs: Dict[str, Any]):\n",
    "        stdio_transports = []\n",
    "        for server_config in server_configs.values():\n",
    "            server_params = StdioServerParameters(\n",
    "                command=server_config[\"command\"],\n",
    "                args=server_config[\"args\"],\n",
    "                env=None\n",
    "            )\n",
    "            stdio_transport = await self.exit_stack.enter_async_context(stdio_client(server_params))\n",
    "            stdio_transports.append(stdio_transport)\n",
    "        for stdio_transport in stdio_transports:\n",
    "            read, write = stdio_transport\n",
    "            session = await self.exit_stack.enter_async_context(ClientSession(read, write))\n",
    "            self.sessions.append(session)\n",
    "\n",
    "        for session in self.sessions:\n",
    "            await session.initialize()\n",
    "            response = await session.list_tools()\n",
    "            tools = response.tools\n",
    "            print(\"\\033[92mConnected to server with tools\\033[0m:\", \", \".join([tool.name for tool in tools]))\n",
    "\n",
    "    async def process_query(self, user_query: str, max_iter: int = 30) -> str:\n",
    "        messages = [\n",
    "            {\n",
    "                \"role\": \"user\",\n",
    "                \"content\": user_query\n",
    "            }\n",
    "        ]\n",
    "        # load tools\n",
    "        tool2session = {}\n",
    "        available_tools = []\n",
    "        for session in self.sessions:\n",
    "            response = await session.list_tools()\n",
    "            tool_names = [tool.name for tool in response.tools]\n",
    "            for name in tool_names:\n",
    "                tool2session[name] = session\n",
    "            available_tools += [{\n",
    "                \"name\": tool.name,\n",
    "                \"description\": tool.description,\n",
    "                \"input_schema\": tool.inputSchema\n",
    "            } for tool in response.tools]\n",
    "        available_tools += ANTHROPIC_WEB_SEARCH\n",
    "\n",
    "        response = self.anthropic.messages.create(\n",
    "            model=MODEL,\n",
    "            max_tokens=MAX_TOKENS,\n",
    "            messages=messages,\n",
    "            tools=available_tools,\n",
    "            stop_sequences=[\"DONE\"],\n",
    "            system=SYSTEM_PROMPT\n",
    "        )\n",
    "\n",
    "        counter = 1\n",
    "        while counter < max_iter:\n",
    "            print(f\"\\n\\033[95mLoop\\033[0m: {counter}\")\n",
    "\n",
    "            tool_results = []\n",
    "            assistant_message_contents = []\n",
    "            # for anthropic's web search tool the agent outputs multipls text blocks, so combining them into one\n",
    "            is_previous_content_text = False\n",
    "            all_texts = []\n",
    "            for content in response.content:\n",
    "                if content.type == \"text\" and content.text:\n",
    "                    message = content.text.strip(\"\\n\").rstrip()\n",
    "                    if message:\n",
    "                        assistant_message_contents.append({\n",
    "                            \"type\": \"text\",\n",
    "                            \"text\": message\n",
    "                        })\n",
    "                        all_texts.append(message)\n",
    "                    if not is_previous_content_text:\n",
    "                        is_previous_content_text = True\n",
    "                elif content.type == \"tool_use\":\n",
    "                    # reset text compilation\n",
    "                    is_previous_content_text = False\n",
    "                    if all_texts:\n",
    "                        print(\"\\033[92mAgent\\033[0m: \", \"\\n\".join(all_texts))\n",
    "                        all_texts = []\n",
    "                    tool_name = content.name\n",
    "                    tool_args = content.input\n",
    "                    print(f\"\\033[96mCalling tool\\033[0m \\033[93m{tool_name}\\033[0m \\033[96mwith the following input\\033[0m: \\033[93m{tool_args}\\033[0m\")\n",
    "                    result = await tool2session[tool_name].call_tool(tool_name, tool_args)\n",
    "                    tool_results.append({\"type\": \"tool_result\", \"tool_use_id\": content.id, \"content\": result.content[0].text})\n",
    "                    print(f\"\\033[94mTool call result\\033[0m: {result.content[0].text}\")\n",
    "                    assistant_message_contents.append({\n",
    "                        \"type\": \"tool_use\",\n",
    "                        \"id\": content.id,\n",
    "                        \"name\": tool_name,\n",
    "                        \"input\": tool_args\n",
    "                    })\n",
    "                elif content.type == \"server_tool_use\":\n",
    "                    # reset text compilation\n",
    "                    is_previous_content_text = False\n",
    "                    if all_texts:\n",
    "                        print(\"\\033[92mAgent\\033[0m: \", \"\\n\".join(all_texts))\n",
    "                        all_texts = []\n",
    "                    tool_name = content.name\n",
    "                    tool_args = content.input\n",
    "                    print(f\"\\033[96mCalling remote tool\\033[0m \\033[93m{tool_name}\\033[0m \\033[96mwith the following input\\033[0m: \\033[93m{tool_args}\\033[0m\")\n",
    "                    if hasattr(content, 'text') and content.text:\n",
    "                        assistant_message_contents.append({\n",
    "                            \"type\": \"text\",\n",
    "                            \"text\": content.text.rstrip()\n",
    "                        })\n",
    "                elif content.type == \"web_search_tool_result\":\n",
    "                    # reset text compilation\n",
    "                    is_previous_content_text = False\n",
    "                    if all_texts:\n",
    "                        print(\"\\033[92mAgent\\033[0m: \", \"\\n\".join(all_texts))\n",
    "                        all_texts = []\n",
    "                    for ws_result in content.content:\n",
    "                        print(f\"\\033[94mGot web-search result\\033[0m, search request - \\033[93m{ws_result['title']}\\033[0m, URL - \\033[93m{ws_result['url']}\\033[0m\")\n",
    "                    if hasattr(content, 'text') and content.text:\n",
    "                        assistant_message_contents.append({\n",
    "                            \"type\": \"text\",\n",
    "                            \"text\": content.text.rstrip()\n",
    "                        })\n",
    "\n",
    "            messages.append({\n",
    "                \"role\": \"assistant\",\n",
    "                \"content\": assistant_message_contents\n",
    "            })\n",
    "            if tool_results:\n",
    "                messages.append({\n",
    "                    \"role\": \"user\",\n",
    "                    \"content\": tool_results\n",
    "                })\n",
    "\n",
    "            response = self.anthropic.messages.create(\n",
    "                model=MODEL,\n",
    "                max_tokens=MAX_TOKENS,\n",
    "                messages=messages,\n",
    "                tools=available_tools,\n",
    "                stop_sequences=[\"DONE\"],\n",
    "                system=SYSTEM_PROMPT\n",
    "            )\n",
    "\n",
    "            counter += 1\n",
    "            if response.stop_reason == \"stop_sequence\":\n",
    "                if response.content and response.content[0].text:\n",
    "                    all_texts.append(response.content[0].text.strip(\"\\n\"))\n",
    "                if all_texts:\n",
    "                    print(\"\\033[92mAgent\\033[0m: \", \"\\n\".join(all_texts))\n",
    "                break\n",
    "            else:\n",
    "                if all_texts:\n",
    "                    print(\"\\033[92mAgent\\033[0m: \", \"\\n\".join(all_texts))\n",
    "\n",
    "    async def cleanup(self):\n",
    "        await self.exit_stack.aclose()"
   ]
  },
  {
   "cell_type": "markdown",
   "id": "d38a4f47-1e86-4d14-bb76-fff76c88192d",
   "metadata": {},
   "source": [
    "## Using bash tool"
   ]
  },
  {
   "cell_type": "code",
   "execution_count": null,
   "id": "f847e6e1-c3cc-4901-a607-3df6ab168d7d",
   "metadata": {},
   "outputs": [],
   "source": [
    "server_config = json.load(open(\"server.json\"))\n",
    "client = MCPClient()\n",
    "try:\n",
    "    await client.connect_to_servers(server_config[\"mcpServers\"])\n",
    "    await client.process_query(\"List all files\")\n",
    "except Exception as e:\n",
    "    print(f\"An error occurred: {e}\")\n",
    "finally:\n",
    "    await client.cleanup()"
   ]
  },
  {
   "cell_type": "markdown",
   "id": "f4456e69-c394-42ba-8911-211d25f83a9f",
   "metadata": {},
   "source": [
    "## Multiple tools"
   ]
  },
  {
   "cell_type": "code",
   "execution_count": null,
   "id": "3320f475-ef92-4a0d-a4b4-81f5c75197d2",
   "metadata": {},
   "outputs": [],
   "source": [
    "server_config = json.load(open(\"server_full.json\"))\n",
    "client = MCPClient()\n",
    "await client.connect_to_servers(server_config[\"mcpServers\"])"
   ]
  },
  {
   "cell_type": "code",
   "execution_count": null,
   "id": "e9164368-fb10-4303-912a-02e2d753eabe",
   "metadata": {},
   "outputs": [],
   "source": [
    "await client.process_query(\"Create 5 new files hello_INDEX.txt with content 'Hello world INDEX' where index is in range between 1 and 5\")"
   ]
  },
  {
   "cell_type": "code",
   "execution_count": null,
   "id": "5c76e89c-dda5-44e4-9896-732cb00e6097",
   "metadata": {},
   "outputs": [],
   "source": [
    "await client.process_query(\"What's new in Python 3.15?\")"
   ]
  },
  {
   "cell_type": "code",
   "execution_count": null,
   "id": "847aee22-f1ec-4287-a800-ccb28fe6b1fd",
   "metadata": {},
   "outputs": [],
   "source": [
    "await client.process_query(\"Run the dockerfile in the current dir and fix it if it doesn't work\")"
   ]
  },
  {
   "cell_type": "markdown",
   "id": "9e59638b-b2b8-4048-bad4-9dc24bc21808",
   "metadata": {
    "jp-MarkdownHeadingCollapsed": true
   },
   "source": [
    "## Security section"
   ]
  },
  {
   "cell_type": "code",
   "execution_count": null,
   "id": "f9636c62-b031-4e60-8ac0-3eff61fdd907",
   "metadata": {},
   "outputs": [],
   "source": [
    "await client.process_query(\"Fetch the content of the page http://localhost:12345/regular and say hi\")"
   ]
  },
  {
   "cell_type": "code",
   "execution_count": null,
   "id": "cd2409e4-86d8-448c-a473-0fbcc091e166",
   "metadata": {},
   "outputs": [],
   "source": [
    "await client.process_query(\"Fetch the content of the page http://localhost:12345/notoops and say hi\")"
   ]
  },
  {
   "cell_type": "code",
   "execution_count": null,
   "id": "eed51730-ead5-4c06-a841-58157956758f",
   "metadata": {},
   "outputs": [],
   "source": [
    "await client.process_query(\"Fetch the content of the page http://localhost:12345/oops and say hi\")"
   ]
  },
  {
   "cell_type": "code",
   "execution_count": null,
   "id": "0f237f07-c1dc-4fa9-adcd-6aad05874534",
   "metadata": {},
   "outputs": [],
   "source": []
  }
 ],
 "metadata": {
  "kernelspec": {
   "display_name": "Python 3 (ipykernel)",
   "language": "python",
   "name": "python3"
  },
  "language_info": {
   "codemirror_mode": {
    "name": "ipython",
    "version": 3
   },
   "file_extension": ".py",
   "mimetype": "text/x-python",
   "name": "python",
   "nbconvert_exporter": "python",
   "pygments_lexer": "ipython3",
   "version": "3.12.6"
  }
 },
 "nbformat": 4,
 "nbformat_minor": 5
}
