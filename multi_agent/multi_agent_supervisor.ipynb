{
 "cells": [
  {
   "cell_type": "markdown",
   "id": "2686e117-5750-484c-91ec-b820c4097ac9",
   "metadata": {},
   "source": [
    "## IMPORTANT\n",
    "There appears to be an issue currently with `langgraph_supervisor` where the tool to transfer back to supervisor is not injected. Keeping this file for completeness. The same supervisor pattern is implemented through `langgraph_swarm` in the other notebook"
   ]
  },
  {
   "cell_type": "code",
   "execution_count": null,
   "id": "75ee9b54c636b51e",
   "metadata": {
    "ExecuteTime": {
     "end_time": "2025-02-26T19:38:51.662765Z",
     "start_time": "2025-02-26T19:38:51.658593Z"
    }
   },
   "outputs": [],
   "source": [
    "import os\n",
    "import warnings\n",
    "from typing import Literal\n",
    "from typing_extensions import TypedDict\n",
    "\n",
    "from dotenv import load_dotenv\n",
    "from langchain.agents import load_tools\n",
    "from langchain_anthropic import ChatAnthropic\n",
    "from langchain_community.agent_toolkits import FileManagementToolkit, PlayWrightBrowserToolkit\n",
    "from langchain_community.tools import ShellTool\n",
    "from langchain_community.tools import BraveSearch\n",
    "from langchain_community.tools.playwright.utils import create_async_playwright_browser\n",
    "from langgraph.graph import StateGraph, START, END, MessagesState\n",
    "from langgraph.prebuilt import create_react_agent\n",
    "from langgraph.types import Command\n",
    "from langgraph_supervisor import create_supervisor\n",
    "\n",
    "load_dotenv()\n",
    "warnings.filterwarnings('ignore')\n",
    "\n",
    "# This import is required only for jupyter notebooks, since they have their own eventloop\n",
    "import nest_asyncio\n",
    "\n",
    "nest_asyncio.apply()"
   ]
  },
  {
   "cell_type": "code",
   "execution_count": null,
   "id": "f04c6778-403b-4b49-9b93-678e910d5cec",
   "metadata": {
    "ExecuteTime": {
     "end_time": "2025-02-26T19:38:52.507342Z",
     "start_time": "2025-02-26T19:38:52.118494Z"
    }
   },
   "outputs": [],
   "source": [
    "sonnet = ChatAnthropic(model=\"claude-sonnet-4-5-20250929\", max_retries=5, max_tokens=16384, temperature=0)\n",
    "haiku = ChatAnthropic(model=\"claude-haiku-4-5-20251001\", max_retries=5, max_tokens=16384, temperature=0)\n",
    "\n",
    "bash_tool = ShellTool()\n",
    "search_tool = BraveSearch.from_api_key(api_key=os.getenv(\"BRAVE_API_KEY\"), search_kwargs={\"count\": 3})\n",
    "fs_tool = FileManagementToolkit(root_dir=\"./\").get_tools()\n",
    "\n",
    "async_browser = create_async_playwright_browser()\n",
    "toolkit = PlayWrightBrowserToolkit.from_browser(async_browser=async_browser)\n",
    "pw_tools = toolkit.get_tools()\n",
    "\n",
    "human = load_tools([\"human\"])"
   ]
  },
  {
   "cell_type": "markdown",
   "id": "d32962d2-5487-496d-aefc-2a3b0d194985",
   "metadata": {},
   "source": [
    "### Agent Supervisor\n",
    "\n",
    "It will use LLM with structured output to choose the next worker node OR finish processing."
   ]
  },
  {
   "cell_type": "code",
   "execution_count": null,
   "id": "df2bd80b-c477-4d74-8faa-1c0548622239",
   "metadata": {
    "ExecuteTime": {
     "end_time": "2025-02-26T19:38:54.851950Z",
     "start_time": "2025-02-26T19:38:54.846537Z"
    }
   },
   "outputs": [],
   "source": [
    "team_members = [\"backend\", \"frontend\", \"devops\", \"qa\"]\n",
    "\n",
    "available_tools = [bash_tool, search_tool] + fs_tool + pw_tools + human\n",
    "\n",
    "supervisor_prompt = (\n",
    "    \"You are a product manager and project planner. A user will give you a high‑level \"\n",
    "    \"software development request. Break the request into small, atomic steps. \"\n",
    "    f\"Assign each step to one of the following specialists: {', '.join(team_members)}. \"\n",
    "    \"Use exactly the agent name as the label for the step (e.g., 'Step 1 (backend): …'). \"\n",
    "    \"After outlining a step, immediately call the corresponding transfer tool (e.g., transfer_to_backend) \"\n",
    "    \"to hand control to that specialist. If you need clarification from the user, ask using the human tool.\"\n",
    ")\n",
    "\n",
    "# Prompts for specialists: execute only their labelled steps, hand back control, and ask human if needed\n",
    "backend_prompt = (\n",
    "    \"You are a senior backend developer. Implement task assigned to you by the product manager. \"\n",
    "    \"For each step labelled 'backend': \"\n",
    "    \"1. Produce a detailed sub‑plan describing how you will accomplish the step. \"\n",
    "    \"2. Execute your sub‑plan using the available tools. \"\n",
    "    \"3. Immediately call the transfer_to_product_manager tool to return control to the product manager. \"\n",
    "    \"Do not move on to the next step until the product manager reassigns you. \"\n",
    "    \"Only execute steps labelled for backend; do not perform tasks labelled for frontend, devops, or QA. \"\n",
    "    \"Use the human tool if you need to ask the user a question.\"\n",
    ")\n",
    "frontend_prompt = (\n",
    "    \"You are a senior frontend developer. Implement task assigned to you by the product manager. \"\n",
    "    \"For each step labelled 'frontend': \"\n",
    "    \"1. Produce a detailed sub‑plan describing how you will accomplish the step. \"\n",
    "    \"2. Execute your sub‑plan using the available tools. \"\n",
    "    \"3. Immediately call the transfer_to_product_manager tool to return control to the product manager. \"\n",
    "    \"Do not move on to the next step until the product manager reassigns you. \"\n",
    "    \"Only execute steps labelled for frontend; do not perform tasks labelled for backend, devops, or QA. \"\n",
    "    \"Use the human tool if you need to ask the user a question.\"\n",
    ")\n",
    "devops_prompt = (\n",
    "    \"You are a senior devops engineer. Implement task assigned to you by the product manager. \"\n",
    "    \"For each step labelled 'devops': \"\n",
    "    \"1. Produce a detailed sub‑plan describing how you will accomplish the step. \"\n",
    "    \"2. Execute your sub‑plan using the available tools. \"\n",
    "    \"3. Immediately call the transfer_to_product_manager tool to return control to the product manager. \"\n",
    "    \"Do not move on to the next step until the product manager reassigns you. \"\n",
    "    \"Only execute steps labelled for devops; do not perform tasks labelled for backend, frontend, or QA. \"\n",
    "    \"Use the human tool if you need to ask the user a question.\"\n",
    ")\n",
    "qa_prompt = (\n",
    "    \"You are a senior QA engineer. Implement task assigned to you by the product manager. \"\n",
    "    \"For each step labelled 'qa': \"\n",
    "    \"1. Produce a detailed sub‑plan describing how you will accomplish the step. \"\n",
    "    \"2. Execute your sub‑plan using the available tools. \"\n",
    "    \"3. Immediately call the transfer_to_product_manager tool to return control to the product manager. \"\n",
    "    \"Do not move on to the next step until the product manager reassigns you. \"\n",
    "    \"Only execute steps labelled for QA; do not perform tasks labelled for backend, frontend, or devops. \"\n",
    "    \"Use the human tool if you need to ask the user a question.\"\n",
    ")"
   ]
  },
  {
   "cell_type": "markdown",
   "id": "a07d507f-34d1-4f1b-8dde-5e58d17b2166",
   "metadata": {},
   "source": [
    "## Apes together strong 🦍🦍🦍"
   ]
  },
  {
   "cell_type": "code",
   "execution_count": null,
   "id": "6a430af7-8fce-4e66-ba9e-d940c1bc48e8",
   "metadata": {
    "ExecuteTime": {
     "end_time": "2025-02-26T19:39:22.827492Z",
     "start_time": "2025-02-26T19:39:22.761227Z"
    }
   },
   "outputs": [],
   "source": [
    "backend_agent = create_react_agent(\n",
    "    haiku,\n",
    "    tools=available_tools,\n",
    "    prompt=backend_prompt,\n",
    "    name=\"backend\",\n",
    ")\n",
    "frontend_agent = create_react_agent(\n",
    "    haiku,\n",
    "    tools=available_tools,\n",
    "    prompt=frontend_prompt,\n",
    "    name=\"frontend\",\n",
    ")\n",
    "devops_agent = create_react_agent(\n",
    "    haiku,\n",
    "    tools=available_tools,\n",
    "    prompt=devops_prompt,\n",
    "    name=\"devops\",\n",
    ")\n",
    "qa_agent = create_react_agent(\n",
    "    haiku,\n",
    "    tools=available_tools,\n",
    "    prompt=qa_prompt,\n",
    "    name=\"qa\",\n",
    ")\n",
    "\n",
    "supervisor = create_supervisor(\n",
    "    agents=[backend_agent, frontend_agent, qa_agent, devops_agent],\n",
    "    model=ChatAnthropic(model=\"claude-sonnet-4-5-20250929\", max_retries=5, max_tokens=16384, temperature=0),\n",
    "    prompt=supervisor_prompt,\n",
    "    add_handoff_messages=True,\n",
    "    add_handoff_back_messages=True,\n",
    "    handoff_tool_prefix=\"transfer_to_\",\n",
    ").compile()"
   ]
  },
  {
   "cell_type": "markdown",
   "id": "d36496de-7121-4c49-8cb6-58c943c66628",
   "metadata": {},
   "source": [
    "## Run the task"
   ]
  },
  {
   "cell_type": "code",
   "execution_count": null,
   "id": "43a83f64-338f-4670-a49e-3c9a815e46b4",
   "metadata": {},
   "outputs": [],
   "source": [
    "def formatting(s):\n",
    "    node, event = s\n",
    "    if len(node) == 0:\n",
    "        print(\"Entering graph\")\n",
    "        print(event)\n",
    "        return\n",
    "    agent_type = node[0].split(':')[0]\n",
    "    print(f\"\\n\\033[92mCurrent agent\\033[0m - \\033[91m{agent_type}\\033[0m\")\n",
    "    event_type = list(event.keys())[0]\n",
    "    if event_type == \"tools\":\n",
    "        if event[event_type]['messages'][0].content:\n",
    "            print(f\"\\033[94mTool call result\\033[0m: {event[event_type]['messages'][0].content}\")\n",
    "    elif event_type == \"agent\":\n",
    "        content = event[event_type]['messages'][0].content\n",
    "        if isinstance(content, str):\n",
    "            print(f\"\\033[92m{agent_type}\\033[0m: {content}\")\n",
    "            return\n",
    "        agent_messages = list(filter(lambda x: x[\"type\"] == \"text\", content))\n",
    "        if agent_messages:\n",
    "            print(f\"\\033[92m{agent_type}\\033[0m: {agent_messages[0]['text']}\")\n",
    "        tools = list(filter(lambda x: x[\"type\"] == \"tool_use\", content))\n",
    "        if tools:\n",
    "            for tool in tools:\n",
    "                if tool[\"input\"]:\n",
    "                    print(f\"\\033[92m{agent_type}\\033[0m: calling tool \\033[93m{tool['name']} \\033[0mwith the following input:\")\n",
    "                    for key, value in tool[\"input\"].items():\n",
    "                        print(f\"\\033[96m{key}\\033[0m: \\033[97m{value}\\033[0m\")\n",
    "                else:\n",
    "                    print(f\"\\033[92m{agent_type}\\033[0m: using tool \\033[93m{tool['name']}\\033[0m\")\n",
    "    else:\n",
    "        print(\"event\", event)"
   ]
  },
  {
   "cell_type": "code",
   "execution_count": null,
   "id": "56ba78e9-d9c1-457c-a073-d606d5d3e013",
   "metadata": {
    "ExecuteTime": {
     "end_time": "2025-02-26T19:41:43.851922Z",
     "start_time": "2025-02-26T19:39:24.774922Z"
    }
   },
   "outputs": [],
   "source": [
    "user_prompt = (\n",
    "    \"I want to build a website for a conference, it should have several pages, \"\n",
    "    \"namely: 1. Intro page about conference, 2. Page for people to submit their talks, \"\n",
    "    \"3. Page with submitted talks. Frontend part needs to be written in react, backend - in fastapi. \"\n",
    "    \"I want to store the submissions in postgresql database. \"\n",
    "    \"In the end run the project in docker and docker compose and give me the local url to test. \"\n",
    ")\n",
    "async for s in supervisor.astream(\n",
    "    {\"messages\": [(\"user\", user_prompt)]},\n",
    "    {\"recursion_limit\": 100},\n",
    "    subgraphs=True,\n",
    "    stream_mode=\"updates\",\n",
    "):\n",
    "    formatting(s)\n",
    "    print(\"-\" * 30)"
   ]
  },
  {
   "cell_type": "code",
   "execution_count": null,
   "id": "f609975a-220f-4033-ab23-ae0d918a5d04",
   "metadata": {},
   "outputs": [],
   "source": []
  }
 ],
 "metadata": {
  "kernelspec": {
   "display_name": "Python 3 (ipykernel)",
   "language": "python",
   "name": "python3"
  },
  "language_info": {
   "codemirror_mode": {
    "name": "ipython",
    "version": 3
   },
   "file_extension": ".py",
   "mimetype": "text/x-python",
   "name": "python",
   "nbconvert_exporter": "python",
   "pygments_lexer": "ipython3",
   "version": "3.12.6"
  }
 },
 "nbformat": 4,
 "nbformat_minor": 5
}
